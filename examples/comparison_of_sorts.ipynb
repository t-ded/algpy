{
 "cells": [
  {
   "cell_type": "code",
   "execution_count": 1,
   "id": "6989edef-fdfa-475e-88f8-46ec28e74c2d",
   "metadata": {},
   "outputs": [],
   "source": [
    "import os\n",
    "import sys"
   ]
  },
  {
   "cell_type": "code",
   "execution_count": 2,
   "id": "1c7db782-da76-481e-a312-5499e4dca5c4",
   "metadata": {},
   "outputs": [],
   "source": [
    "sys.path.append(os.path.abspath('..'))"
   ]
  },
  {
   "cell_type": "code",
   "execution_count": 3,
   "id": "initial_id",
   "metadata": {},
   "outputs": [],
   "source": [
    "from algpy_src.algorithms.sorting.bubble_sort import BubbleSort\n",
    "from algpy_src.algorithms.sorting.insertion_sort import InsertionSort\n",
    "\n",
    "from algpy_src.tools.algorithm_runtime_analysis.analyse_runtime import AlgorithmRuntimeAnalytic\n",
    "\n",
    "from algpy_src.base.constants import TEST_SEED"
   ]
  },
  {
   "cell_type": "markdown",
   "id": "1d612cd7-f28e-4315-ac53-0a6635c1eedc",
   "metadata": {},
   "source": [
    "<h3>Bubble Sort</h3>"
   ]
  },
  {
   "cell_type": "code",
   "execution_count": 4,
   "id": "dad876ad-c351-4475-bf86-cba6c184291e",
   "metadata": {},
   "outputs": [],
   "source": [
    "worst_case = range(1, 1_000)"
   ]
  },
  {
   "cell_type": "code",
   "execution_count": 5,
   "id": "75d9879b-8fa7-4c1a-8fd7-bac2867466d6",
   "metadata": {},
   "outputs": [],
   "source": [
    "bubble_sort = BubbleSort()"
   ]
  },
  {
   "cell_type": "code",
   "execution_count": 6,
   "id": "cc8063d5-dd2e-4364-b432-75a1a67329c4",
   "metadata": {},
   "outputs": [],
   "source": [
    "bubble_sort_res = bubble_sort.run_algorithm(worst_case, descending=True)\n",
    "assert bubble_sort_res == list(range(999, 0, -1))"
   ]
  },
  {
   "cell_type": "code",
   "execution_count": 7,
   "id": "6e4a3a1f-e652-4b78-86c3-c287b5445942",
   "metadata": {},
   "outputs": [],
   "source": [
    "bubble_sort_runtime_analytic = AlgorithmRuntimeAnalytic(algorithm=bubble_sort, n_repetitions=10, seed=TEST_SEED)\n",
    "bubble_sort_runtime_analytic.get_runtime_analysis(input_sequence=None)"
   ]
  },
  {
   "cell_type": "code",
   "execution_count": 9,
   "id": "b24e3778-da2c-410a-9f74-055ecf0fbc2a",
   "metadata": {},
   "outputs": [
    {
     "name": "stdout",
     "output_type": "stream",
     "text": [
      "----------\n",
      "Analysing runtime of the Bubble Sort algorithm:\n",
      "Time complexity breakdown of the Bubble Sort algorithm:\n",
      "  Best case time complexity is O(n) with best case being fully sorted array.\n",
      "  Average case time complexity is O(n^2).\n",
      "  Worst case time complexity is O(n^2) with worst case being fully unsorted array.\n",
      "----------\n",
      "Algorithm analysis on its worst case instance:\n",
      "  Run on worst case instance with problem size 100 took 0.00 ± 0.00 seconds and 9_900.00 operations (10 repetitions)\n",
      "----------\n",
      "Algorithm analysis on random instances:\n",
      "  Run on instance with problem size 1 took 0.00 ± 0.00 seconds and 0.00 ± 0.00 operations (10 repetitions)\n",
      "  Run on instance with problem size 10 took 0.00 ± 0.00 seconds and 7.10 ± 21.30 operations (10 repetitions)\n",
      "  Run on instance with problem size 100 took 0.00 ± 0.00 seconds and 746.80 ± 2_240.40 operations (10 repetitions)\n",
      "----------\n",
      "\n",
      "\n",
      "\n",
      "\n"
     ]
    }
   ],
   "source": [
    "bubble_sort_runtime_analytic.print_runtime_analysis()"
   ]
  },
  {
   "cell_type": "markdown",
   "id": "a0b8e542-f6eb-41bd-b7da-d847ea281be5",
   "metadata": {},
   "source": [
    "<h3>Insertion Sort</h3>"
   ]
  },
  {
   "cell_type": "code",
   "execution_count": 13,
   "id": "b04a84cf-a7c0-42b2-bdd3-62bccb1b41c3",
   "metadata": {},
   "outputs": [],
   "source": [
    "worst_case = range(1, 1_000)"
   ]
  },
  {
   "cell_type": "code",
   "execution_count": 14,
   "id": "b23159d0-884c-4ba6-97ce-a17046aecc74",
   "metadata": {},
   "outputs": [],
   "source": [
    "insertion_sort = InsertionSort()"
   ]
  },
  {
   "cell_type": "code",
   "execution_count": 15,
   "id": "ce793768-d494-43d5-a90f-e312a75f2df7",
   "metadata": {},
   "outputs": [],
   "source": [
    "insertion_sort_res = insertion_sort.run_algorithm(worst_case, descending=True)\n",
    "assert insertion_sort_res == list(range(999, 0, -1))"
   ]
  },
  {
   "cell_type": "code",
   "execution_count": 16,
   "id": "8a5d5e01-ae7f-441b-804b-2dfde933b944",
   "metadata": {},
   "outputs": [],
   "source": [
    "insertion_sort_runtime_analytic = AlgorithmRuntimeAnalytic(algorithm=insertion_sort, n_repetitions=10, seed=TEST_SEED)\n",
    "insertion_sort_runtime_analytic.get_runtime_analysis(input_sequence=None)"
   ]
  },
  {
   "cell_type": "code",
   "execution_count": 17,
   "id": "bce1b9b4-8c9e-426e-8b53-925ec7b0d50c",
   "metadata": {},
   "outputs": [
    {
     "name": "stdout",
     "output_type": "stream",
     "text": [
      "----------\n",
      "Analysing runtime of the Insertion Sort algorithm:\n",
      "Time complexity breakdown of the Insertion Sort algorithm:\n",
      "  Best case time complexity is O(n) with best case being fully sorted array.\n",
      "  Average case time complexity is O(n^2).\n",
      "  Worst case time complexity is O(n^2) with worst case being fully unsorted array.\n",
      "----------\n",
      "Algorithm analysis on its worst case instance:\n",
      "  Run on worst case instance with problem size 100 took 0.00 ± 0.00 seconds and 9_900.00 operations (10 repetitions)\n",
      "----------\n",
      "Algorithm analysis on random instances:\n",
      "  Run on instance with problem size 1 took 0.00 ± 0.00 seconds and 0.00 ± 0.00 operations (10 repetitions)\n",
      "  Run on instance with problem size 10 took 0.00 ± 0.00 seconds and 5.30 ± 15.90 operations (10 repetitions)\n",
      "  Run on instance with problem size 100 took 0.00 ± 0.00 seconds and 511.30 ± 1_533.90 operations (10 repetitions)\n",
      "----------\n",
      "\n",
      "\n",
      "\n",
      "\n"
     ]
    }
   ],
   "source": [
    "insertion_sort_runtime_analytic.print_runtime_analysis()"
   ]
  },
  {
   "cell_type": "code",
   "execution_count": null,
   "id": "3df9658e-8780-4784-bf8d-099fc689a625",
   "metadata": {},
   "outputs": [],
   "source": []
  }
 ],
 "metadata": {
  "kernelspec": {
   "display_name": "Python 3 (ipykernel)",
   "language": "python",
   "name": "python3"
  },
  "language_info": {
   "codemirror_mode": {
    "name": "ipython",
    "version": 3
   },
   "file_extension": ".py",
   "mimetype": "text/x-python",
   "name": "python",
   "nbconvert_exporter": "python",
   "pygments_lexer": "ipython3",
   "version": "3.12.3"
  }
 },
 "nbformat": 4,
 "nbformat_minor": 5
}
